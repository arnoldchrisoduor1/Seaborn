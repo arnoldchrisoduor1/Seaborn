{
 "cells": [
  {
   "cell_type": "markdown",
   "id": "c1a210fd",
   "metadata": {},
   "source": [
    "# Properties of Mark Objects"
   ]
  },
  {
   "cell_type": "markdown",
   "id": "46dfe89a",
   "metadata": {},
   "source": [
    "## Coordinate properties"
   ]
  },
  {
   "cell_type": "markdown",
   "id": "2eb6a2e0",
   "metadata": {},
   "source": [
    "### x, y, xmin, xmax, ymin, ymax"
   ]
  },
  {
   "cell_type": "markdown",
   "id": "77ae2761",
   "metadata": {},
   "source": [
    "- Cooordiate properties determine where a mark is drawn on a plot.\n",
    "\n",
    "- If a variable does not contain numeric data its scale will apply a conversion so that data acn be drawn on a screen.\n",
    "    - `Nominal` scales assign an integer index to each distinct category and `Temporal` scales represent dates as the number of days from a reference \"epoch\"."
   ]
  },
  {
   "cell_type": "markdown",
   "id": "115711f1",
   "metadata": {},
   "source": [
    "## Color Properties"
   ]
  },
  {
   "cell_type": "markdown",
   "id": "2aff9a92",
   "metadata": {},
   "source": [
    "### color, fillcolor, edgecolor"
   ]
  },
  {
   "cell_type": "markdown",
   "id": "8ad816fe",
   "metadata": {},
   "source": [
    "- Nominal scales use discrete, unordered hues, while continuous scales (including temporal ones) use a sequential gradient\n",
    "\n",
    "- Continuous scales can alsobe parameterized by a tuple of colors that scale should interpolate between."
   ]
  },
  {
   "cell_type": "markdown",
   "id": "0802ea24",
   "metadata": {},
   "source": [
    "### alpha, fillalpha, edgealpha"
   ]
  },
  {
   "cell_type": "markdown",
   "id": "fee7ff6c",
   "metadata": {},
   "source": [
    "- The `alpha` property determines the mark's opacity. Lowering the alpha can be helpful for representing density in the case of overplotting"
   ]
  },
  {
   "cell_type": "markdown",
   "id": "4b4d8630",
   "metadata": {},
   "source": [
    "## Style Properties"
   ]
  },
  {
   "cell_type": "markdown",
   "id": "57d991b4",
   "metadata": {},
   "source": [
    "### fill\n",
    " - This property is relevant to marks with distinction between the edge and interior and determines whether the interior is visible (it is a boolean state)."
   ]
  },
  {
   "cell_type": "markdown",
   "id": "42e0145b",
   "metadata": {},
   "source": [
    "### Marker\n",
    "- The `marker` property is relevant for dot marks and some line marks.\n",
    "- They can be specified by simple string codes.\n",
    "- A marker property is always mapped with a nominal scale; there is no inherent ordering to the different shapes. If no scale is provided, the plot will programmatically generate a swuitable large set of unique markers."
   ]
  },
  {
   "cell_type": "markdown",
   "id": "14e19cd9",
   "metadata": {},
   "source": [
    "### Linestyle, edgestyle\n",
    "- The `linestyle` property is relevant to line marks, and the `edgestyle` property is relevant to a number of marks with edges. Both properties determine the \"dashing\" of a line in terms of on-off segments."
   ]
  },
  {
   "cell_type": "markdown",
   "id": "cf7461ff",
   "metadata": {},
   "source": [
    "## Size Properties"
   ]
  },
  {
   "cell_type": "markdown",
   "id": "778065b5",
   "metadata": {},
   "source": [
    "### Pointsize\n",
    "- This property is important to dot marks and to line marks tha can show markers at individual data points.\n",
    "- The units correspond to the diameter of the mark in points."
   ]
  },
  {
   "cell_type": "markdown",
   "id": "04ec0619",
   "metadata": {},
   "source": [
    "### Linewidth\n",
    "- This property determines the thickness of the line marks - the value should be non-negative and has point units"
   ]
  },
  {
   "cell_type": "markdown",
   "id": "9bd45a22",
   "metadata": {},
   "source": [
    "### Edgewidth\n",
    "- This applies to marks with an edge/fill rather than to lines - has a different default range when used in a scale, the units are the same."
   ]
  },
  {
   "cell_type": "markdown",
   "id": "6795b2d5",
   "metadata": {},
   "source": [
    "### Stroke\n",
    "- Similar to `edgewidth` but applies when a dot mark is defined by its stroke rather that its fill - has a slightly different scale range but otherwise behaves similarly."
   ]
  },
  {
   "cell_type": "markdown",
   "id": "fd6e1d36",
   "metadata": {},
   "source": [
    "## Text Properties"
   ]
  },
  {
   "cell_type": "markdown",
   "id": "90ced7a6",
   "metadata": {},
   "source": [
    "### halign, valign\n",
    "- They control the horizontal and vertical alignment of the text marks."
   ]
  },
  {
   "cell_type": "markdown",
   "id": "fdf37431",
   "metadata": {},
   "source": [
    "### Fontsize\n",
    "- Controls the size of the textual marks."
   ]
  },
  {
   "cell_type": "markdown",
   "id": "15aad48b",
   "metadata": {},
   "source": [
    "### Offset\n",
    "- Controls the spacing between a text mark and its anchor position - it applies when not using center alignment."
   ]
  }
 ],
 "metadata": {
  "kernelspec": {
   "display_name": "Python 3 (ipykernel)",
   "language": "python",
   "name": "python3"
  },
  "language_info": {
   "codemirror_mode": {
    "name": "ipython",
    "version": 3
   },
   "file_extension": ".py",
   "mimetype": "text/x-python",
   "name": "python",
   "nbconvert_exporter": "python",
   "pygments_lexer": "ipython3",
   "version": "3.11.5"
  }
 },
 "nbformat": 4,
 "nbformat_minor": 5
}
